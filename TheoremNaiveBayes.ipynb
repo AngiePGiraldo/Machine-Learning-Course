{
  "nbformat": 4,
  "nbformat_minor": 0,
  "metadata": {
    "colab": {
      "provenance": []
    },
    "kernelspec": {
      "name": "python3",
      "display_name": "Python 3"
    },
    "language_info": {
      "name": "python"
    }
  },
  "cells": [
    {
      "cell_type": "code",
      "execution_count": null,
      "metadata": {
        "id": "JAEPRzJ7Sc_j"
      },
      "outputs": [],
      "source": [
        "#Se importan las bibliotecas para datos númericos, vectores y matrices\n",
        "import numpy as np\n",
        "#manejo de data frames\n",
        "import pandas as np"
      ]
    },
    {
      "cell_type": "code",
      "source": [
        "#biblioteca de extracción de características del texto\n",
        "from sklearn.feature_extraction.text import CountVectorizer\n",
        "#para medir la precisión del modelo, matriz de confusión\n",
        "from sklearn.metrics import precision_score, confusion_matrix\n",
        "#divide el conjunto de datos de entrenamiento\n",
        "from sklearn.model_selection import train_test_split\n",
        "#modelo de Naive Bayes, El clasificador multimodal Naive Bayes es adecuado para la clasificación.\n",
        "#con características discretas (por ejemplo, recuento de palabras para la clasificación de texto\n",
        "from sklearn.naive_bayes import MultinomialNB"
      ],
      "metadata": {
        "id": "7z1fBSwST0lk"
      },
      "execution_count": null,
      "outputs": []
    },
    {
      "cell_type": "code",
      "source": [
        "#carga los datos\n",
        "data = pd.read_csv(https://raw.githubusercontent.com/AiDevNepal/ai-saturdays-workshop-8/master/data/spam.csv))"
      ],
      "metadata": {
        "id": "Te6ySQAQT0pL"
      },
      "execution_count": null,
      "outputs": []
    },
    {
      "cell_type": "code",
      "source": [
        "#convierte los datos de texto a número (Spam 1, NoSpam 0)\n",
        "data['target' ] = np.where(data['target']=='spam',1, 0)"
      ],
      "metadata": {
        "id": "b5Iq1VI6T0tH"
      },
      "execution_count": null,
      "outputs": []
    },
    {
      "cell_type": "code",
      "source": [
        "print(data)"
      ],
      "metadata": {
        "id": "7yNjM0csT0wO"
      },
      "execution_count": null,
      "outputs": []
    },
    {
      "cell_type": "code",
      "source": [
        "#divide el conjunto de datos en entrenamiento(X_train, X_test) y prueba (X_test, Y_test)\n",
        "X_train, X_test, Y_train, Y_test = train_test_split(data['text'],\n",
        "                                                    data['target'],\n",
        "                                                    random_state=0)"
      ],
      "metadata": {
        "id": "tFNrmt4qT0yq"
      },
      "execution_count": null,
      "outputs": []
    },
    {
      "cell_type": "code",
      "source": [
        "#Extraer las características\n",
        "vectorizer = CountVectorizer(ngram_range=(1, 2)).fit(X_train)\n",
        "X_train_vectorized = vectorizer.transform(X_train)"
      ],
      "metadata": {
        "id": "oZUoTMEkT01W"
      },
      "execution_count": null,
      "outputs": []
    },
    {
      "cell_type": "code",
      "source": [
        "#Se acomodan los datos para introducirlos\n",
        "#el parámetro alfa es lo que se como hiperparámetro; es decir, un parámetro que controla la forma del modelo en sí\n",
        "#El suavizado de Laplace es una técnica utilizada para evitar problemas de probabilidad nula en el modelo de Naive Bayes\n",
        "#puede influir en el rendimiento y la generalización del clasificador.(laplace)\n",
        "model = MultinomialNB(alpha=0.1)\n",
        "model.fit(X_train_vectorized, Y_train)"
      ],
      "metadata": {
        "id": "oplUiVQLT032"
      },
      "execution_count": null,
      "outputs": []
    },
    {
      "cell_type": "code",
      "source": [],
      "metadata": {
        "id": "XxC76IYOT07V"
      },
      "execution_count": null,
      "outputs": []
    }
  ]
}