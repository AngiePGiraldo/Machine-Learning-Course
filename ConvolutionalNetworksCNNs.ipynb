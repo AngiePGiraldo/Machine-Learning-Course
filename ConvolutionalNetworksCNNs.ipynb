{
  "cells": [
    {
      "cell_type": "markdown",
      "id": "7a3294a7",
      "metadata": {
        "id": "7a3294a7"
      },
      "source": [
        "# CNN - redes neuronales convolucionales\n",
        "\n",
        "Vamos a implementar diferentes modelos de redes convolucionales y realizar el ejercicio de probar su funcionamiento con la base de datos MNIST\n",
        "\n",
        "### Caso 1:\n",
        "\n",
        "Ejemplo de una red neuronal convolucional (CNN) de tres capas que utiliza TensorFlow para clasificar imágenes. Este ejemplo supone una arquitectura simple con dos capas convolucionales seguidas de agrupación máxima y una capa completamente conectada para la clasificación.\n"
      ]
    },
    {
      "cell_type": "markdown",
      "id": "df61e7fc",
      "metadata": {
        "id": "df61e7fc"
      },
      "source": [
        "```python\n",
        "import tensorflow as tf\n",
        "from tensorflow.keras import layers, models\n",
        "\n",
        "# Define el modelo CNN\n",
        "model = models.Sequential()\n",
        "\n",
        "# Primera capa convolucional\n",
        "model.add(layers.Conv2D(32, (3, 3), activation='relu', input_shape=(64, 64, 3)))\n",
        "model.add(layers.MaxPooling2D((2, 2)))\n",
        "\n",
        "# Segunda capa convolucional\n",
        "model.add(layers.Conv2D(64, (3, 3), activation='relu'))\n",
        "model.add(layers.MaxPooling2D((2, 2)))\n",
        "\n",
        "# Flatten Layer : permite concatenar las caracteristicas en un vector unidimensional (aplanar)\n",
        "#sirve para preparar los datos de entrada a una red completamente conectada (FC - fully connected)\n",
        "model.add(layers.Flatten())\n",
        "\n",
        "# Fully Connected Layer\n",
        "model.add(layers.Dense(64, activation='relu'))\n",
        "\n",
        "# Capa de salida\n",
        "model.add(layers.Dense(10, activation='softmax'))  # En este caso se tienen 10 clases\n",
        "\n",
        "# Compile el modelo\n",
        "model.compile(optimizer='adam',\n",
        "              loss='categorical_crossentropy',\n",
        "              metrics=['accuracy'])\n",
        "\n",
        "# mostar el resumen\n",
        "model.summary()\n",
        "```\n",
        "\n",
        "**Explicación:**\n",
        "\n",
        "1. **Capas convolucionales**: las dos primeras capas son capas convolucionales. Están diseñados para aprender características a partir de los datos de entrada. Las capas `Conv2D` aplican un conjunto de filtros a la entrada y cada filtro aprende una característica diferente.\n",
        "\n",
        "2. **Capas pooling o agrupacion MaxPooling**: después de cada capa convolucional, hay una capa de agrupación  (`MaxPooling2D`). Esta capa reduce las dimensiones espaciales (ancho y alto) de los datos, lo que ayuda a reducir el cálculo y evita el sobreajuste.\n",
        "\n",
        "3. **Flatten Layer**: esta capa se utiliza para convertir los datos multidimensionales en una matriz unidimensional. Esto es necesario antes de pasar los datos a capas completamente conectadas.\n",
        "\n",
        "4. **Capas completamente conectadas - Fully connected**: los datos aplanados pasan a través de una o más capas completamente conectadas, que realizan la tarea de clasificación.\n",
        "\n",
        "5. **Capa de salida**: la capa final utiliza la función de activación softmax para generar probabilidades para cada clase.\n",
        "\n",
        "6. **Compilación**: el modelo se compila con un optimizador, una función de pérdida y la métrica deseada para su evaluación.\n",
        "\n",
        "7. **Resumen del modelo**: Esto imprime un resumen de la arquitectura del modelo.\n",
        "\n",
        "Recuerde ajustar los parámetros (por ejemplo, forma de entrada, número de clases, tamaños de filtro, etc.) de acuerdo con su conjunto de datos específico y su tarea de clasificación.\n",
        "\n",
        "Además, necesitará un conjunto de datos para entrenar y evaluar el modelo."
      ]
    },
    {
      "cell_type": "code",
      "execution_count": null,
      "id": "d1cbee53",
      "metadata": {
        "id": "d1cbee53"
      },
      "outputs": [],
      "source": [
        "\n",
        "from google.colab import drive\n",
        "drive.mount('/content/gdrive',force_remount=True)\n",
        "root_dir = '/content/gdrive/My Drive/Colab Notebooks/Bases de datos/hymenoptera'"
      ]
    },
    {
      "cell_type": "code",
      "execution_count": null,
      "id": "1ca5d7bb",
      "metadata": {
        "id": "1ca5d7bb",
        "outputId": "c4fcbd8a-e4ed-4316-f740-a564dbe82977"
      },
      "outputs": [
        {
          "name": "stdout",
          "output_type": "stream",
          "text": [
            "[INFO] datos cargados y redimensionados a la forma: num imagenes x filas x columnas x canales\n",
            " \n",
            "Etiquetas o clases: \n",
            " [0 1 2 3 4 5 6 7 8 9] \n",
            "Datos por clase \n",
            " [5923 6742 5958 6131 5842 5421 5918 6265 5851 5949]\n"
          ]
        }
      ],
      "source": [
        "#load data\n",
        "import numpy as np\n",
        "import matplotlib.pyplot       as plt\n",
        "from mlxtend.data import loadlocal_mnist\n",
        "\n",
        "import tensorflow as tf\n",
        "from tensorflow.keras import layers, models\n",
        "from tensorflow.keras.utils import to_categorical\n",
        "\n",
        "root_dir = ''\n",
        "\n",
        "X_train, y_train = loadlocal_mnist(\n",
        "        images_path=root_dir+'/train-images-idx3-ubyte',\n",
        "        labels_path=root_dir+'MNIST/train-labels-idx1-ubyte')\n",
        "\n",
        "X_test, y_test = loadlocal_mnist(\n",
        "        images_path=root_dir+'MNIST/t10k-images-idx3-ubyte',\n",
        "        labels_path=root_dir+'MNIST/t10k-labels-idx1-ubyte')\n",
        "\n",
        "X_train = X_train.reshape(60000,28,28,1)\n",
        "X_test = X_test.reshape(10000,28,28,1)\n",
        "\n",
        "\n",
        "\n",
        "print(\"[INFO] datos cargados y redimensionados a la forma: num imagenes x filas x columnas x canales\")\n",
        "labels,count_class = np.unique(y_train,return_counts=True)\n",
        "print(' \\nEtiquetas o clases: \\n %s \\nDatos por clase \\n %s' % (labels,count_class))\n",
        "num_classes = labels.size\n"
      ]
    },
    {
      "cell_type": "code",
      "execution_count": null,
      "id": "b5772bd5",
      "metadata": {
        "id": "b5772bd5",
        "outputId": "a381f026-bf93-4e75-c187-421c33b8bd26"
      },
      "outputs": [
        {
          "name": "stdout",
          "output_type": "stream",
          "text": [
            "5\n"
          ]
        },
        {
          "data": {
            "image/png": "[encoded data removed]",
            "text/plain": [
              "<Figure size 1500x500 with 2 Axes>"
            ]
          },
          "metadata": {},
          "output_type": "display_data"
        }
      ],
      "source": [
        "plt.figure(1, figsize=(15, 5))\n",
        "index = 5000\n",
        "\n",
        "print(y_train[index])\n",
        "plt.subplot(121)\n",
        "plt.imshow(X_train[index],cmap=\"gray\");\n",
        "plt.subplot(122)\n",
        "_,_,_=plt.hist(X_train[index].ravel(),100)"
      ]
    },
    {
      "cell_type": "code",
      "execution_count": null,
      "id": "9e755bd5",
      "metadata": {
        "id": "9e755bd5",
        "outputId": "06b696f0-dbf3-40e0-dae3-4a4e6841644c"
      },
      "outputs": [
        {
          "name": "stdout",
          "output_type": "stream",
          "text": [
            "Model: \"sequential_2\"\n",
            "_________________________________________________________________\n",
            " Layer (type)                Output Shape              Param #   \n",
            "=================================================================\n",
            " conv2d_4 (Conv2D)           (None, 26, 26, 32)        320       \n",
            "                                                                 \n",
            " max_pooling2d_4 (MaxPooling  (None, 13, 13, 32)       0         \n",
            " 2D)                                                             \n",
            "                                                                 \n",
            " conv2d_5 (Conv2D)           (None, 11, 11, 64)        18496     \n",
            "                                                                 \n",
            " max_pooling2d_5 (MaxPooling  (None, 5, 5, 64)         0         \n",
            " 2D)                                                             \n",
            "                                                                 \n",
            " flatten_2 (Flatten)         (None, 1600)              0         \n",
            "                                                                 \n",
            " dense_4 (Dense)             (None, 64)                102464    \n",
            "                                                                 \n",
            " dense_5 (Dense)             (None, 10)                650       \n",
            "                                                                 \n",
            "=================================================================\n",
            "Total params: 121,930\n",
            "Trainable params: 121,930\n",
            "Non-trainable params: 0\n",
            "_________________________________________________________________\n"
          ]
        }
      ],
      "source": [
        "# Define el modelo CNN\n",
        "model = models.Sequential()\n",
        "\n",
        "# Primera capa convolucional\n",
        "model.add(layers.Conv2D(32, (3, 3), activation='relu', input_shape=(28, 28, 1)))\n",
        "model.add(layers.MaxPooling2D((2, 2)))\n",
        "\n",
        "# Segunda capa convolucional\n",
        "model.add(layers.Conv2D(64, (3, 3), activation='relu'))\n",
        "model.add(layers.MaxPooling2D((2, 2)))\n",
        "\n",
        "# Flatten Layer : permite concatenar las caracteristicas en un vector unidimensional (aplanar)\n",
        "#sirve para preparar los datos de entrada a una red completamente conectada (FC - fully connected)\n",
        "model.add(layers.Flatten())\n",
        "\n",
        "# Fully Connected Layer\n",
        "model.add(layers.Dense(64, activation='relu'))\n",
        "\n",
        "# Capa de salida\n",
        "model.add(layers.Dense(10, activation='softmax'))  # En este caso se tienen 10 clases\n",
        "\n",
        "# Compile el modelo\n",
        "model.compile(optimizer='adam',\n",
        "              loss='categorical_crossentropy',\n",
        "              metrics=['accuracy'])\n",
        "\n",
        "# mostar el resumen\n",
        "model.summary()"
      ]
    },
    {
      "cell_type": "code",
      "execution_count": null,
      "id": "d6903d62",
      "metadata": {
        "id": "d6903d62",
        "outputId": "18d7c607-8145-4566-f240-52024c11cbf2"
      },
      "outputs": [
        {
          "name": "stdout",
          "output_type": "stream",
          "text": [
            "Epoch 1/5\n",
            "600/600 [==============================] - 10s 16ms/step - loss: 0.5730 - accuracy: 0.9113\n",
            "Epoch 2/5\n",
            "600/600 [==============================] - 10s 17ms/step - loss: 0.0739 - accuracy: 0.9781\n",
            "Epoch 3/5\n",
            "600/600 [==============================] - 10s 16ms/step - loss: 0.0504 - accuracy: 0.9847\n",
            "Epoch 4/5\n",
            "600/600 [==============================] - 10s 17ms/step - loss: 0.0397 - accuracy: 0.9879\n",
            "Epoch 5/5\n",
            "600/600 [==============================] - 10s 17ms/step - loss: 0.0325 - accuracy: 0.9899\n"
          ]
        },
        {
          "data": {
            "text/plain": [
              "<keras.callbacks.History at 0x207189420d0>"
            ]
          },
          "execution_count": 16,
          "metadata": {},
          "output_type": "execute_result"
        }
      ],
      "source": [
        "#one hot encoding\n",
        "train_labels = to_categorical(y_train, num_classes=num_classes)\n",
        "test_labels = to_categorical(y_test, num_classes=num_classes)\n",
        "#entrenar el modelo\n",
        "model.fit(X_train, train_labels, epochs=5, batch_size=100)\n"
      ]
    },
    {
      "cell_type": "code",
      "execution_count": null,
      "id": "995d4ae0",
      "metadata": {
        "id": "995d4ae0",
        "outputId": "aebf43a7-f1b0-4558-d2e0-205ab9fffeb0"
      },
      "outputs": [
        {
          "name": "stdout",
          "output_type": "stream",
          "text": [
            "313/313 [==============================] - 1s 3ms/step - loss: 0.0491 - accuracy: 0.9860\n",
            "Accuracy: 98.60\n"
          ]
        }
      ],
      "source": [
        "_, accuracy = model.evaluate(X_test, test_labels)\n",
        "print('Accuracy: %.2f' % (accuracy*100))"
      ]
    },
    {
      "cell_type": "markdown",
      "id": "6d1b86d8",
      "metadata": {
        "id": "6d1b86d8"
      },
      "source": [
        "### Caso 2:"
      ]
    },
    {
      "cell_type": "markdown",
      "id": "f9c1d3b3",
      "metadata": {
        "id": "f9c1d3b3"
      },
      "source": [
        "Ejemplo de una red neuronal convolucional residual (ResNet) de tres capas que utiliza TensorFlow para clasificar imágenes. ResNet utiliza conexiones de salto (o atajos) para abordar el problema del gradiente que desaparece y mejorar el entrenamiento de redes profundas.\n",
        "\n",
        "```python\n",
        "import tensorflow as tf\n",
        "from tensorflow.keras import layers, models\n",
        "\n",
        "def residual_block(x, filters, kernel_size=3, stride=1):\n",
        "    # Atajo o Shortcut: es la entrada al bloque, se usa para sumarlo al final con\n",
        "    #el resultado de pasar esta misma entrada por las capas convolucionales\n",
        "    shortcut = x\n",
        "    \n",
        "    # Primer capa convolucional\n",
        "    x = layers.Conv2D(filters, kernel_size, strides=stride, padding='same')(x)\n",
        "    x = layers.BatchNormalization()(x)\n",
        "    x = layers.ReLU()(x)\n",
        "    \n",
        "    # Segunda capa convolucional\n",
        "    x = layers.Conv2D(filters, kernel_size, padding='same')(x)\n",
        "    x = layers.BatchNormalization()(x)\n",
        "    \n",
        "    # Sumar el atajo con la salida de las capas convolucionales , generar la salida del bloque\n",
        "    x = layers.Add()([x, shortcut])\n",
        "    x = layers.ReLU()(x)\n",
        "    \n",
        "    return x\n",
        "\n",
        "# Definir el modelo ResNet\n",
        "def build_resnet():\n",
        "    input_layer = layers.Input(shape=(64, 64, 3))\n",
        "    \n",
        "    # Capa convolucional inicial\n",
        "    x = layers.Conv2D(32, 3, padding='same')(input_layer)\n",
        "    x = layers.BatchNormalization()(x)\n",
        "    x = layers.ReLU()(x)\n",
        "    \n",
        "    # Agregar los bloques residuales, en este caso se itera por 3 ciclos, para pasar x\n",
        "    # por 3 bloques identicos\n",
        "    for _ in range(3):  # Three residual blocks\n",
        "        x = residual_block(x, 32)\n",
        "    \n",
        "    # Pooling promedi\n",
        "    x = layers.GlobalAveragePooling2D()(x)\n",
        "    \n",
        "    # Fully Connected\n",
        "    x = layers.Dense(64, activation='relu')(x)\n",
        "    \n",
        "    # Output Layer - capa de salida\n",
        "    output_layer = layers.Dense(10, activation='softmax')(x)  # Suponiendo que tenemos 10 clases\n",
        "    \n",
        "    model = models.Model(inputs=input_layer, outputs=output_layer)\n",
        "    return model\n",
        "\n",
        "# Instantiate the model\n",
        "model = build_resnet()\n",
        "\n",
        "# Compile the model\n",
        "model.compile(optimizer='adam',\n",
        "              loss='categorical_crossentropy',\n",
        "              metrics=['accuracy'])\n",
        "\n",
        "# imprimir resumen\n",
        "model.summary()\n",
        "```\n",
        "\n",
        "**Explicación**:\n",
        "\n",
        "1. **Función de bloque residual**: `residual_block` define un único bloque residual. Consta de dos capas convolucionales con normalización por lotes y activación ReLU, y una conexión directa. La salida del bloque es la suma de elementos del atajo y el resultado de las dos convoluciones.\n",
        "\n",
        "`BatchNormalization()` es una técnica utilizada en redes neuronales para normalizar las activaciones de una capa, lo que contribuye a una mayor estabilidad y velocidad de entrenamiento.\n",
        "\n",
        "La normalización por lotes (Batch Normalization) se aplica en una capa de una red neuronal después de la operación de convolución o la operación lineal. Consiste en dos pasos principales:\n",
        "\n",
        "    a. Normalización: Se calcula la media y la desviación estándar de las activaciones en el lote de entrenamiento actual.\n",
        "\n",
        "    b. Escala y Desplazamiento: Las activaciones se normalizan restando la media y dividiendo por la desviación estándar. Luego, se escalan y se desplazan utilizando dos parámetros aprendibles (gamma y beta). Esto permite que la red aprenda la mejor representación de los datos para el problema en cuestión.\n",
        "\n",
        "La normalización por lotes ayuda a combatir el problema de la desvanecimiento/explotación del gradiente en redes profundas.\n",
        "\n",
        "\n",
        "2. **Bloques residuales en el modelo**: En la función `build_resnet`, comenzamos con una capa convolucional inicial, seguida de tres bloques residuales.\n",
        "\n",
        "3. **Agrupación promedio global - GlobalAveragePooling**: después de los bloques residuales, utilizamos la agrupación promedio global para convertir las dimensiones espaciales en un vector unidimensional.\n",
        "\n",
        "4. **Capa completamente conectada - Fully connected**: los datos aplanados pasan a través de una capa completamente conectada.\n",
        "\n",
        "5. **Capa de salida - Output Layer**: la capa final utiliza la función de activación softmax para generar probabilidades para cada clase.\n",
        "\n",
        "6. **Compilación**: el modelo se compila con un optimizador, una función de pérdida y la métrica deseada para su evaluación.\n",
        "\n",
        "7. **Resumen del modelo**: Esto imprime un resumen de la arquitectura del modelo.\n",
        "\n",
        "Recuerde ajustar los parámetros (por ejemplo, forma de entrada, número de clases, tamaños de filtro, etc.) de acuerdo con su conjunto de datos específico y su tarea de clasificación."
      ]
    },
    {
      "cell_type": "code",
      "execution_count": null,
      "id": "05acf0f1",
      "metadata": {
        "id": "05acf0f1",
        "outputId": "a7d09663-270d-413b-9b77-3cb895d0acab"
      },
      "outputs": [
        {
          "name": "stdout",
          "output_type": "stream",
          "text": [
            "Model: \"model_1\"\n",
            "__________________________________________________________________________________________________\n",
            " Layer (type)                   Output Shape         Param #     Connected to                     \n",
            "==================================================================================================\n",
            " input_2 (InputLayer)           [(None, 28, 28, 1)]  0           []                               \n",
            "                                                                                                  \n",
            " conv2d_13 (Conv2D)             (None, 28, 28, 32)   320         ['input_2[0][0]']                \n",
            "                                                                                                  \n",
            " batch_normalization_7 (BatchNo  (None, 28, 28, 32)  128         ['conv2d_13[0][0]']              \n",
            " rmalization)                                                                                     \n",
            "                                                                                                  \n",
            " re_lu_7 (ReLU)                 (None, 28, 28, 32)   0           ['batch_normalization_7[0][0]']  \n",
            "                                                                                                  \n",
            " conv2d_14 (Conv2D)             (None, 28, 28, 32)   9248        ['re_lu_7[0][0]']                \n",
            "                                                                                                  \n",
            " batch_normalization_8 (BatchNo  (None, 28, 28, 32)  128         ['conv2d_14[0][0]']              \n",
            " rmalization)                                                                                     \n",
            "                                                                                                  \n",
            " re_lu_8 (ReLU)                 (None, 28, 28, 32)   0           ['batch_normalization_8[0][0]']  \n",
            "                                                                                                  \n",
            " conv2d_15 (Conv2D)             (None, 28, 28, 32)   9248        ['re_lu_8[0][0]']                \n",
            "                                                                                                  \n",
            " batch_normalization_9 (BatchNo  (None, 28, 28, 32)  128         ['conv2d_15[0][0]']              \n",
            " rmalization)                                                                                     \n",
            "                                                                                                  \n",
            " add_3 (Add)                    (None, 28, 28, 32)   0           ['batch_normalization_9[0][0]',  \n",
            "                                                                  're_lu_7[0][0]']                \n",
            "                                                                                                  \n",
            " re_lu_9 (ReLU)                 (None, 28, 28, 32)   0           ['add_3[0][0]']                  \n",
            "                                                                                                  \n",
            " conv2d_16 (Conv2D)             (None, 28, 28, 32)   9248        ['re_lu_9[0][0]']                \n",
            "                                                                                                  \n",
            " batch_normalization_10 (BatchN  (None, 28, 28, 32)  128         ['conv2d_16[0][0]']              \n",
            " ormalization)                                                                                    \n",
            "                                                                                                  \n",
            " re_lu_10 (ReLU)                (None, 28, 28, 32)   0           ['batch_normalization_10[0][0]'] \n",
            "                                                                                                  \n",
            " conv2d_17 (Conv2D)             (None, 28, 28, 32)   9248        ['re_lu_10[0][0]']               \n",
            "                                                                                                  \n",
            " batch_normalization_11 (BatchN  (None, 28, 28, 32)  128         ['conv2d_17[0][0]']              \n",
            " ormalization)                                                                                    \n",
            "                                                                                                  \n",
            " add_4 (Add)                    (None, 28, 28, 32)   0           ['batch_normalization_11[0][0]', \n",
            "                                                                  're_lu_9[0][0]']                \n",
            "                                                                                                  \n",
            " re_lu_11 (ReLU)                (None, 28, 28, 32)   0           ['add_4[0][0]']                  \n",
            "                                                                                                  \n",
            " conv2d_18 (Conv2D)             (None, 28, 28, 32)   9248        ['re_lu_11[0][0]']               \n",
            "                                                                                                  \n",
            " batch_normalization_12 (BatchN  (None, 28, 28, 32)  128         ['conv2d_18[0][0]']              \n",
            " ormalization)                                                                                    \n",
            "                                                                                                  \n",
            " re_lu_12 (ReLU)                (None, 28, 28, 32)   0           ['batch_normalization_12[0][0]'] \n",
            "                                                                                                  \n",
            " conv2d_19 (Conv2D)             (None, 28, 28, 32)   9248        ['re_lu_12[0][0]']               \n",
            "                                                                                                  \n",
            " batch_normalization_13 (BatchN  (None, 28, 28, 32)  128         ['conv2d_19[0][0]']              \n",
            " ormalization)                                                                                    \n",
            "                                                                                                  \n",
            " add_5 (Add)                    (None, 28, 28, 32)   0           ['batch_normalization_13[0][0]', \n",
            "                                                                  're_lu_11[0][0]']               \n",
            "                                                                                                  \n",
            " re_lu_13 (ReLU)                (None, 28, 28, 32)   0           ['add_5[0][0]']                  \n",
            "                                                                                                  \n",
            " global_average_pooling2d_1 (Gl  (None, 32)          0           ['re_lu_13[0][0]']               \n",
            " obalAveragePooling2D)                                                                            \n",
            "                                                                                                  \n",
            " dense_8 (Dense)                (None, 64)           2112        ['global_average_pooling2d_1[0][0\n",
            "                                                                 ]']                              \n",
            "                                                                                                  \n",
            " dense_9 (Dense)                (None, 10)           650         ['dense_8[0][0]']                \n",
            "                                                                                                  \n",
            "==================================================================================================\n",
            "Total params: 59,466\n",
            "Trainable params: 59,018\n",
            "Non-trainable params: 448\n",
            "__________________________________________________________________________________________________\n"
          ]
        }
      ],
      "source": [
        "def residual_block(x, filters, kernel_size=3, stride=1):\n",
        "    # Atajo o Shortcut: es la entrada al bloque, se usa para sumarlo al final con\n",
        "    #el resultado de pasar esta misma entrada por las capas convolucionales\n",
        "    shortcut = x\n",
        "\n",
        "    # Primer capa convolucional\n",
        "    x = layers.Conv2D(filters, kernel_size, strides=stride, padding='same')(x)\n",
        "    x = layers.BatchNormalization()(x)\n",
        "    x = layers.ReLU()(x)\n",
        "\n",
        "    # Segunda capa convolucional\n",
        "    x = layers.Conv2D(filters, kernel_size, padding='same')(x)\n",
        "    x = layers.BatchNormalization()(x)\n",
        "\n",
        "    # Sumar el atajo con la salida de las capas convolucionales , generar la salida del bloque\n",
        "    x = layers.Add()([x, shortcut])\n",
        "    x = layers.ReLU()(x)\n",
        "\n",
        "    return x\n",
        "\n",
        "# Definir el modelo ResNet\n",
        "def build_resnet():\n",
        "    input_layer = layers.Input(shape=(28, 28, 1))\n",
        "\n",
        "    # Capa convolucional inicial\n",
        "    x = layers.Conv2D(32, 3, padding='same')(input_layer)\n",
        "    x = layers.BatchNormalization()(x)\n",
        "    x = layers.ReLU()(x)\n",
        "\n",
        "    # Agregar los bloques residuales, en este caso se itera por 3 ciclos, para pasar x\n",
        "    # por 3 bloques identicos\n",
        "    for _ in range(3):  # Three residual blocks\n",
        "        x = residual_block(x, 32)\n",
        "\n",
        "    # Pooling promedi\n",
        "    x = layers.GlobalAveragePooling2D()(x)\n",
        "\n",
        "    # Fully Connected\n",
        "    x = layers.Dense(64, activation='relu')(x)\n",
        "\n",
        "    # Output Layer - capa de salida\n",
        "    output_layer = layers.Dense(10, activation='softmax')(x)  # Suponiendo que tenemos 10 clases\n",
        "\n",
        "    model = models.Model(inputs=input_layer, outputs=output_layer)\n",
        "    return model\n",
        "\n",
        "# Instantiate the model\n",
        "model = build_resnet()\n",
        "\n",
        "# Compile the model\n",
        "model.compile(optimizer='adam',\n",
        "              loss='categorical_crossentropy',\n",
        "              metrics=['accuracy'])\n",
        "\n",
        "# imprimir resumen\n",
        "model.summary()"
      ]
    },
    {
      "cell_type": "code",
      "execution_count": null,
      "id": "d9dc7c97",
      "metadata": {
        "id": "d9dc7c97",
        "outputId": "8890b403-b1af-49e5-84b3-a03f6f711ef1"
      },
      "outputs": [
        {
          "name": "stdout",
          "output_type": "stream",
          "text": [
            "Epoch 1/5\n",
            "600/600 [==============================] - 90s 148ms/step - loss: 0.4135 - accuracy: 0.8916\n",
            "Epoch 2/5\n",
            "600/600 [==============================] - 89s 148ms/step - loss: 0.0788 - accuracy: 0.9777\n",
            "Epoch 3/5\n",
            "600/600 [==============================] - 89s 148ms/step - loss: 0.0586 - accuracy: 0.9827\n",
            "Epoch 4/5\n",
            "600/600 [==============================] - 92s 153ms/step - loss: 0.0497 - accuracy: 0.9854\n",
            "Epoch 5/5\n",
            "600/600 [==============================] - 91s 152ms/step - loss: 0.0449 - accuracy: 0.9861\n"
          ]
        },
        {
          "data": {
            "text/plain": [
              "<keras.callbacks.History at 0x2071a25f610>"
            ]
          },
          "execution_count": 21,
          "metadata": {},
          "output_type": "execute_result"
        }
      ],
      "source": [
        "#one hot encoding\n",
        "train_labels = to_categorical(y_train, num_classes=num_classes)\n",
        "test_labels = to_categorical(y_test, num_classes=num_classes)\n",
        "#entrenar el modelo\n",
        "model.fit(X_train, train_labels, epochs=5, batch_size=100)"
      ]
    },
    {
      "cell_type": "code",
      "execution_count": null,
      "id": "9c73ec00",
      "metadata": {
        "id": "9c73ec00",
        "outputId": "b6790b19-aa1d-4b8a-9a40-5a2fe649debe"
      },
      "outputs": [
        {
          "name": "stdout",
          "output_type": "stream",
          "text": [
            "313/313 [==============================] - 5s 15ms/step - loss: 0.2026 - accuracy: 0.9390\n",
            "Accuracy: 93.90\n"
          ]
        }
      ],
      "source": [
        "_, accuracy = model.evaluate(X_test, test_labels)\n",
        "print('Accuracy: %.2f' % (accuracy*100))"
      ]
    },
    {
      "cell_type": "code",
      "execution_count": null,
      "id": "fec37e65",
      "metadata": {
        "id": "fec37e65"
      },
      "outputs": [],
      "source": []
    },
    {
      "cell_type": "markdown",
      "id": "89db491a",
      "metadata": {
        "id": "89db491a"
      },
      "source": [
        "### Caso 3:\n",
        "\n",
        "La arquitectura VGG es conocida por sus profundas capas convolucionales. A continuación se muestra un ejemplo de una red neuronal convolucional (CNN) de tres capas que utiliza la arquitectura VGG con TensorFlow:\n",
        "\n",
        "```python\n",
        "import tensorflow as tf\n",
        "from tensorflow.keras import layers, models\n",
        "\n",
        "def build_vgg(input_shape, num_classes):\n",
        "    model = models.Sequential()\n",
        "\n",
        "    # Boque 1\n",
        "    model.add(layers.Conv2D(64, (3, 3), activation='relu', padding='same', input_shape=input_shape))\n",
        "    model.add(layers.Conv2D(64, (3, 3), activation='relu', padding='same'))\n",
        "    model.add(layers.MaxPooling2D((2, 2), strides=(2, 2)))\n",
        "\n",
        "    # Boque 2\n",
        "    model.add(layers.Conv2D(128, (3, 3), activation='relu', padding='same'))\n",
        "    model.add(layers.Conv2D(128, (3, 3), activation='relu', padding='same'))\n",
        "    model.add(layers.MaxPooling2D((2, 2), strides=(2, 2)))\n",
        "\n",
        "    # Boque 3\n",
        "    model.add(layers.Conv2D(256, (3, 3), activation='relu', padding='same'))\n",
        "    model.add(layers.Conv2D(256, (3, 3), activation='relu', padding='same'))\n",
        "    model.add(layers.Conv2D(256, (3, 3), activation='relu', padding='same'))\n",
        "    model.add(layers.MaxPooling2D((2, 2), strides=(2, 2)))\n",
        "\n",
        "    # Flatten and Fully Connected Layers\n",
        "    model.add(layers.Flatten())\n",
        "    model.add(layers.Dense(4096, activation='relu'))\n",
        "    model.add(layers.Dense(4096, activation='relu'))\n",
        "\n",
        "    # Output Layer\n",
        "    model.add(layers.Dense(num_classes, activation='softmax'))\n",
        "\n",
        "    return model\n",
        "\n",
        "# Crear el modelo VGG\n",
        "input_shape = (224, 224, 3)  # Ajustar segun necesidades\n",
        "num_classes = 10  # Asumir 10 clases\n",
        "\n",
        "model = build_vgg(input_shape, num_classes)\n",
        "\n",
        "# Compilar el modelo\n",
        "model.compile(optimizer='adam',\n",
        "              loss='categorical_crossentropy',\n",
        "              metrics=['accuracy'])\n",
        "\n",
        "# Mostrar el resumen\n",
        "model.summary()\n",
        "```\n",
        "\n",
        "**Explicación**\n",
        "1. **Bloque 1**: Contiene dos capas convolucionales con 64 filtros cada una, seguidas de una agrupación máxima.\n",
        "\n",
        "2. **Bloque 2**: Contiene dos capas convolucionales con 128 filtros cada una, seguidas de una agrupación máxima.\n",
        "\n",
        "3. **Bloque 3**: Contiene tres capas convolucionales con 256 filtros cada una, seguidas de una agrupación máxima.\n",
        "\n",
        "4. **Capas aplanadas y completamente conectadas - Flatten and Fully Connected Layers**: después de los bloques convolucionales, los datos se aplanan y pasan a través de dos capas completamente conectadas con 4096 unidades cada una.\n",
        "\n",
        "5. **Capa de salida - Output Layer**: la capa final utiliza la función de activación softmax para generar probabilidades para cada clase.\n",
        "\n",
        "Recuerde ajustar `input_shape` de acuerdo con las dimensiones de sus imágenes y configurar `num_classes` para que coincida con el número de clases en su tarea de clasificación. Además, prepare su conjunto de datos para entrenamiento y evaluación."
      ]
    },
    {
      "cell_type": "code",
      "execution_count": null,
      "id": "6e73f6dc",
      "metadata": {
        "id": "6e73f6dc",
        "outputId": "2b3fb1b6-cdf1-482a-e6cf-189606a0f3af"
      },
      "outputs": [
        {
          "name": "stdout",
          "output_type": "stream",
          "text": [
            "Model: \"sequential_3\"\n",
            "_________________________________________________________________\n",
            " Layer (type)                Output Shape              Param #   \n",
            "=================================================================\n",
            " conv2d_20 (Conv2D)          (None, 28, 28, 64)        640       \n",
            "                                                                 \n",
            " conv2d_21 (Conv2D)          (None, 28, 28, 64)        36928     \n",
            "                                                                 \n",
            " max_pooling2d_6 (MaxPooling  (None, 14, 14, 64)       0         \n",
            " 2D)                                                             \n",
            "                                                                 \n",
            " conv2d_22 (Conv2D)          (None, 14, 14, 128)       73856     \n",
            "                                                                 \n",
            " conv2d_23 (Conv2D)          (None, 14, 14, 128)       147584    \n",
            "                                                                 \n",
            " max_pooling2d_7 (MaxPooling  (None, 7, 7, 128)        0         \n",
            " 2D)                                                             \n",
            "                                                                 \n",
            " conv2d_24 (Conv2D)          (None, 7, 7, 256)         295168    \n",
            "                                                                 \n",
            " conv2d_25 (Conv2D)          (None, 7, 7, 256)         590080    \n",
            "                                                                 \n",
            " conv2d_26 (Conv2D)          (None, 7, 7, 256)         590080    \n",
            "                                                                 \n",
            " max_pooling2d_8 (MaxPooling  (None, 3, 3, 256)        0         \n",
            " 2D)                                                             \n",
            "                                                                 \n",
            " flatten_3 (Flatten)         (None, 2304)              0         \n",
            "                                                                 \n",
            " dense_10 (Dense)            (None, 4096)              9441280   \n",
            "                                                                 \n",
            " dense_11 (Dense)            (None, 4096)              16781312  \n",
            "                                                                 \n",
            " dense_12 (Dense)            (None, 10)                40970     \n",
            "                                                                 \n",
            "=================================================================\n",
            "Total params: 27,997,898\n",
            "Trainable params: 27,997,898\n",
            "Non-trainable params: 0\n",
            "_________________________________________________________________\n"
          ]
        }
      ],
      "source": [
        "\n",
        "def build_vgg(input_shape, num_classes):\n",
        "    model = models.Sequential()\n",
        "\n",
        "    # Boque 1\n",
        "    model.add(layers.Conv2D(64, (3, 3), activation='relu', padding='same', input_shape=input_shape))\n",
        "    model.add(layers.Conv2D(64, (3, 3), activation='relu', padding='same'))\n",
        "    model.add(layers.MaxPooling2D((2, 2), strides=(2, 2)))\n",
        "\n",
        "    # Boque 2\n",
        "    model.add(layers.Conv2D(128, (3, 3), activation='relu', padding='same'))\n",
        "    model.add(layers.Conv2D(128, (3, 3), activation='relu', padding='same'))\n",
        "    model.add(layers.MaxPooling2D((2, 2), strides=(2, 2)))\n",
        "\n",
        "    # Boque 3\n",
        "    model.add(layers.Conv2D(256, (3, 3), activation='relu', padding='same'))\n",
        "    model.add(layers.Conv2D(256, (3, 3), activation='relu', padding='same'))\n",
        "    model.add(layers.Conv2D(256, (3, 3), activation='relu', padding='same'))\n",
        "    model.add(layers.MaxPooling2D((2, 2), strides=(2, 2)))\n",
        "\n",
        "    # Flatten and Fully Connected Layers\n",
        "    model.add(layers.Flatten())\n",
        "    model.add(layers.Dense(4096, activation='relu'))\n",
        "    model.add(layers.Dense(4096, activation='relu'))\n",
        "\n",
        "    # Output Layer\n",
        "    model.add(layers.Dense(num_classes, activation='softmax'))\n",
        "\n",
        "    return model\n",
        "\n",
        "# Crear el modelo VGG\n",
        "input_shape = (28, 28, 1)  # Ajustar segun necesidades\n",
        "num_classes = 10  # Asumir 10 clases\n",
        "\n",
        "model = build_vgg(input_shape, num_classes)\n",
        "\n",
        "# Compilar el modelo\n",
        "model.compile(optimizer='adam',\n",
        "              loss='categorical_crossentropy',\n",
        "              metrics=['accuracy'])\n",
        "\n",
        "# Mostrar el resumen\n",
        "model.summary()\n"
      ]
    },
    {
      "cell_type": "code",
      "execution_count": null,
      "id": "b69f71ee",
      "metadata": {
        "id": "b69f71ee",
        "outputId": "5b112d30-2f30-4e98-ef54-9a9e8ae24c39"
      },
      "outputs": [
        {
          "name": "stdout",
          "output_type": "stream",
          "text": [
            "Epoch 1/5\n",
            "600/600 [==============================] - 265s 440ms/step - loss: 0.3704 - accuracy: 0.9350\n",
            "Epoch 2/5\n",
            "600/600 [==============================] - 269s 449ms/step - loss: 0.0566 - accuracy: 0.9830\n",
            "Epoch 3/5\n",
            "600/600 [==============================] - 267s 445ms/step - loss: 0.0451 - accuracy: 0.9868\n",
            "Epoch 4/5\n",
            "600/600 [==============================] - 265s 441ms/step - loss: 0.0399 - accuracy: 0.9888\n",
            "Epoch 5/5\n",
            "600/600 [==============================] - 273s 455ms/step - loss: 0.0407 - accuracy: 0.9885\n"
          ]
        },
        {
          "data": {
            "text/plain": [
              "<keras.callbacks.History at 0x2071a6bdbe0>"
            ]
          },
          "execution_count": 24,
          "metadata": {},
          "output_type": "execute_result"
        }
      ],
      "source": [
        "#one hot encoding\n",
        "train_labels = to_categorical(y_train, num_classes=num_classes)\n",
        "test_labels = to_categorical(y_test, num_classes=num_classes)\n",
        "#entrenar el modelo\n",
        "model.fit(X_train, train_labels, epochs=5, batch_size=100)"
      ]
    },
    {
      "cell_type": "code",
      "execution_count": null,
      "id": "821d74fd",
      "metadata": {
        "id": "821d74fd",
        "outputId": "787b8284-6b5c-457a-e983-0c977558b6bc"
      },
      "outputs": [
        {
          "name": "stdout",
          "output_type": "stream",
          "text": [
            "313/313 [==============================] - 15s 48ms/step - loss: 0.0847 - accuracy: 0.9798\n",
            "Accuracy: 97.98\n"
          ]
        }
      ],
      "source": [
        "_, accuracy = model.evaluate(X_test, test_labels)\n",
        "print('Accuracy: %.2f' % (accuracy*100))"
      ]
    },
    {
      "cell_type": "markdown",
      "id": "e5c102db",
      "metadata": {
        "id": "e5c102db"
      },
      "source": [
        "### Caso 4:\n",
        "Un ejemplo de una red neuronal convolucional (CNN) de tres capas que utiliza la arquitectura VGG con convoluciones separables en TensorFlow:\n",
        "\n",
        "```python\n",
        "import tensorflow as tf\n",
        "from tensorflow.keras import layers, models\n",
        "\n",
        "def build_vgg_separable(input_shape, num_classes):\n",
        "    model = models.Sequential()\n",
        "\n",
        "    # Bloque 1 con Separable Convolutions\n",
        "    model.add(layers.SeparableConv2D(64, (3, 3), activation='relu', padding='same', input_shape=input_shape))\n",
        "    model.add(layers.SeparableConv2D(64, (3, 3), activation='relu', padding='same'))\n",
        "    model.add(layers.MaxPooling2D((2, 2), strides=(2, 2)))\n",
        "\n",
        "    # Bloque 2 con Separable Convolutions\n",
        "    model.add(layers.SeparableConv2D(128, (3, 3), activation='relu', padding='same'))\n",
        "    model.add(layers.SeparableConv2D(128, (3, 3), activation='relu', padding='same'))\n",
        "    model.add(layers.MaxPooling2D((2, 2), strides=(2, 2)))\n",
        "\n",
        "    # Bloque 3 con Separable Convolutions\n",
        "    model.add(layers.SeparableConv2D(256, (3, 3), activation='relu', padding='same'))\n",
        "    model.add(layers.SeparableConv2D(256, (3, 3), activation='relu', padding='same'))\n",
        "    model.add(layers.SeparableConv2D(256, (3, 3), activation='relu', padding='same'))\n",
        "    model.add(layers.MaxPooling2D((2, 2), strides=(2, 2)))\n",
        "\n",
        "    # Flatten and Fully Connected Layers\n",
        "    model.add(layers.Flatten())\n",
        "    model.add(layers.Dense(4096, activation='relu'))\n",
        "    model.add(layers.Dense(4096, activation='relu'))\n",
        "\n",
        "    # Output Layer\n",
        "    model.add(layers.Dense(num_classes, activation='softmax'))\n",
        "\n",
        "    return model\n",
        "\n",
        "# Crear el modelo VGG\n",
        "input_shape = (224, 224, 3)  # ajustar de acuerdo a necesidades\n",
        "num_classes = 10  # Assumir 10 clases\n",
        "\n",
        "model = build_vgg_separable(input_shape, num_classes)\n",
        "\n",
        "# Compile the model\n",
        "model.compile(optimizer='adam',\n",
        "              loss='categorical_crossentropy',\n",
        "              metrics=['accuracy'])\n",
        "\n",
        "# Imprimir el resumen\n",
        "model.summary()\n",
        "```\n",
        "\n",
        "En este ejemplo, se utilizan las capas `SeparableConv2D` en lugar de las capas convolucionales normales. Las convoluciones separables son computacionalmente más eficientes que las convoluciones tradicionales, ya que factorizan la operación en una convolución profunda y una convolución puntual. Esto puede conducir a una reducción en la cantidad de parámetros y el costo computacional.\n",
        "\n",
        "Recuerde ajustar `input_shape` de acuerdo con las dimensiones de sus imágenes y configurar `num_classes` para que coincida con el número de clases en su tarea de clasificación. Además, prepare su conjunto de datos para entrenamiento y evaluación."
      ]
    },
    {
      "cell_type": "code",
      "execution_count": null,
      "id": "871ac682",
      "metadata": {
        "id": "871ac682",
        "outputId": "6eacb76d-0f77-4977-8861-12da4e6e25d1"
      },
      "outputs": [
        {
          "name": "stdout",
          "output_type": "stream",
          "text": [
            "Model: \"sequential_5\"\n",
            "_________________________________________________________________\n",
            " Layer (type)                Output Shape              Param #   \n",
            "=================================================================\n",
            " separable_conv2d_7 (Separab  (None, 28, 28, 64)       137       \n",
            " leConv2D)                                                       \n",
            "                                                                 \n",
            " separable_conv2d_8 (Separab  (None, 28, 28, 64)       4736      \n",
            " leConv2D)                                                       \n",
            "                                                                 \n",
            " max_pooling2d_12 (MaxPoolin  (None, 14, 14, 64)       0         \n",
            " g2D)                                                            \n",
            "                                                                 \n",
            " separable_conv2d_9 (Separab  (None, 14, 14, 128)      8896      \n",
            " leConv2D)                                                       \n",
            "                                                                 \n",
            " separable_conv2d_10 (Separa  (None, 14, 14, 128)      17664     \n",
            " bleConv2D)                                                      \n",
            "                                                                 \n",
            " max_pooling2d_13 (MaxPoolin  (None, 7, 7, 128)        0         \n",
            " g2D)                                                            \n",
            "                                                                 \n",
            " separable_conv2d_11 (Separa  (None, 7, 7, 256)        34176     \n",
            " bleConv2D)                                                      \n",
            "                                                                 \n",
            " separable_conv2d_12 (Separa  (None, 7, 7, 256)        68096     \n",
            " bleConv2D)                                                      \n",
            "                                                                 \n",
            " separable_conv2d_13 (Separa  (None, 7, 7, 256)        68096     \n",
            " bleConv2D)                                                      \n",
            "                                                                 \n",
            " max_pooling2d_14 (MaxPoolin  (None, 3, 3, 256)        0         \n",
            " g2D)                                                            \n",
            "                                                                 \n",
            " flatten_5 (Flatten)         (None, 2304)              0         \n",
            "                                                                 \n",
            " dense_16 (Dense)            (None, 4096)              9441280   \n",
            "                                                                 \n",
            " dense_17 (Dense)            (None, 4096)              16781312  \n",
            "                                                                 \n",
            " dense_18 (Dense)            (None, 10)                40970     \n",
            "                                                                 \n",
            "=================================================================\n",
            "Total params: 26,465,363\n",
            "Trainable params: 26,465,363\n",
            "Non-trainable params: 0\n",
            "_________________________________________________________________\n"
          ]
        }
      ],
      "source": [
        "def build_vgg_separable(input_shape, num_classes):\n",
        "    model = models.Sequential()\n",
        "\n",
        "    # Bloque 1 con Separable Convolutions\n",
        "    model.add(layers.SeparableConv2D(64, (3, 3), activation='relu', padding='same', input_shape=input_shape))\n",
        "    model.add(layers.SeparableConv2D(64, (3, 3), activation='relu', padding='same'))\n",
        "    model.add(layers.MaxPooling2D((2, 2), strides=(2, 2)))\n",
        "\n",
        "    # Bloque 2 con Separable Convolutions\n",
        "    model.add(layers.SeparableConv2D(128, (3, 3), activation='relu', padding='same'))\n",
        "    model.add(layers.SeparableConv2D(128, (3, 3), activation='relu', padding='same'))\n",
        "    model.add(layers.MaxPooling2D((2, 2), strides=(2, 2)))\n",
        "\n",
        "    # Bloque 3 con Separable Convolutions\n",
        "    model.add(layers.SeparableConv2D(256, (3, 3), activation='relu', padding='same'))\n",
        "    model.add(layers.SeparableConv2D(256, (3, 3), activation='relu', padding='same'))\n",
        "    model.add(layers.SeparableConv2D(256, (3, 3), activation='relu', padding='same'))\n",
        "    model.add(layers.MaxPooling2D((2, 2), strides=(2, 2)))\n",
        "\n",
        "    # Flatten and Fully Connected Layers\n",
        "    model.add(layers.Flatten())\n",
        "    model.add(layers.Dense(4096, activation='relu'))\n",
        "    model.add(layers.Dense(4096, activation='relu'))\n",
        "\n",
        "    # Output Layer\n",
        "    model.add(layers.Dense(num_classes, activation='softmax'))\n",
        "\n",
        "    return model\n",
        "\n",
        "# Crear el modelo VGG\n",
        "input_shape = (28, 28, 1)  # ajustar de acuerdo a necesidades\n",
        "num_classes = 10  # Assumir 10 clases\n",
        "\n",
        "model = build_vgg_separable(input_shape, num_classes)\n",
        "\n",
        "# Compile the model\n",
        "model.compile(optimizer='adam',\n",
        "              loss='categorical_crossentropy',\n",
        "              metrics=['accuracy'])\n",
        "\n",
        "# Imprimir el resumen\n",
        "model.summary()"
      ]
    },
    {
      "cell_type": "code",
      "execution_count": null,
      "id": "1d2fdb94",
      "metadata": {
        "id": "1d2fdb94",
        "outputId": "8ffe6067-781f-4ad6-98e5-b15f24fc6deb"
      },
      "outputs": [
        {
          "name": "stdout",
          "output_type": "stream",
          "text": [
            "Epoch 1/5\n",
            "600/600 [==============================] - 287s 476ms/step - loss: 2.3017 - accuracy: 0.1113\n",
            "Epoch 2/5\n",
            "600/600 [==============================] - 296s 493ms/step - loss: 2.3015 - accuracy: 0.1124\n",
            "Epoch 3/5\n",
            "600/600 [==============================] - 311s 518ms/step - loss: 2.3014 - accuracy: 0.1124\n",
            "Epoch 4/5\n",
            "600/600 [==============================] - 302s 503ms/step - loss: 2.3013 - accuracy: 0.1124\n",
            "Epoch 5/5\n",
            "600/600 [==============================] - 310s 516ms/step - loss: 2.3013 - accuracy: 0.1124\n"
          ]
        },
        {
          "data": {
            "text/plain": [
              "<keras.callbacks.History at 0x2071fe417c0>"
            ]
          },
          "execution_count": 29,
          "metadata": {},
          "output_type": "execute_result"
        }
      ],
      "source": [
        "#one hot encoding\n",
        "train_labels = to_categorical(y_train, num_classes=num_classes)\n",
        "test_labels = to_categorical(y_test, num_classes=num_classes)\n",
        "#entrenar el modelo\n",
        "model.fit(X_train, train_labels, epochs=5, batch_size=100)"
      ]
    },
    {
      "cell_type": "code",
      "execution_count": null,
      "id": "3dc21cfd",
      "metadata": {
        "id": "3dc21cfd",
        "outputId": "9b57368f-61c1-4c25-be0d-6df4f3fc881f"
      },
      "outputs": [
        {
          "name": "stdout",
          "output_type": "stream",
          "text": [
            "313/313 [==============================] - 9s 28ms/step - loss: 2.3011 - accuracy: 0.1135\n",
            "Accuracy: 11.35\n"
          ]
        }
      ],
      "source": [
        "_, accuracy = model.evaluate(X_test, test_labels)\n",
        "print('Accuracy: %.2f' % (accuracy*100))"
      ]
    },
    {
      "cell_type": "code",
      "execution_count": null,
      "id": "71e850ec",
      "metadata": {
        "id": "71e850ec"
      },
      "outputs": [],
      "source": []
    }
  ],
  "metadata": {
    "kernelspec": {
      "display_name": "Python 3 (ipykernel)",
      "language": "python",
      "name": "python3"
    },
    "language_info": {
      "codemirror_mode": {
        "name": "ipython",
        "version": 3
      },
      "file_extension": ".py",
      "mimetype": "text/x-python",
      "name": "python",
      "nbconvert_exporter": "python",
      "pygments_lexer": "ipython3",
      "version": "3.8.16"
    },
    "colab": {
      "provenance": []
    }
  },
  "nbformat": 4,
  "nbformat_minor": 5
}